{
 "cells": [
  {
   "cell_type": "markdown",
   "id": "58e02722-2c0e-467b-afe8-2a1986c4f8b5",
   "metadata": {},
   "source": [
    "A/B experiment evaluation using the standard tests"
   ]
  },
  {
   "cell_type": "markdown",
   "id": "0bb9f171-c94c-4d27-a323-48cb65830118",
   "metadata": {},
   "source": [
    "Hypothesis. ML team advised that the recommendations are making posts more interesting. Our ML team has created two new predicitive models on suggesting what posts the user might like. The first model is based on the posts user liked in the past and the second model is based on the posted that users similar to our user liked. We are checking the second model - recommendations are based on the posted that users similar to our user liked. We will use the CTR metric to decide if the new system should be deployed to production or not."
   ]
  },
  {
   "cell_type": "code",
   "execution_count": 18,
   "id": "16d4c0e1-b03e-467e-b6ee-4f6afe4b0207",
   "metadata": {},
   "outputs": [],
   "source": [
    "# Importing the libraries\n",
    "import pandahouse as ph\n",
    "import pandas as pd\n",
    "import numpy as np\n",
    "import seaborn as sns\n",
    "import matplotlib.pyplot as plt\n",
    "from scipy import stats\n",
    "from scipy.stats import mannwhitneyu\n",
    "%matplotlib inline"
   ]
  },
  {
   "cell_type": "code",
   "execution_count": 19,
   "id": "fb5708b7-cafd-44f2-97c0-a6ffe7717b39",
   "metadata": {},
   "outputs": [],
   "source": [
    "connection = {\n",
    "    'host': HOST ,\n",
    "    'password' : PWD ,\n",
    "    'user' : 'student' ,\n",
    "    'database' : DB \n",
    "    }"
   ]
  },
  {
   "cell_type": "markdown",
   "id": "8d10d04d-cc90-4a32-a9c7-2d3648423465",
   "metadata": {},
   "source": [
    "Extracting the data from DB: control group - group1, test group - group 2"
   ]
  },
  {
   "cell_type": "code",
   "execution_count": 20,
   "id": "7170c38f-d404-4e8f-bf3b-a3edfc651155",
   "metadata": {},
   "outputs": [],
   "source": [
    "q = \"\"\"\n",
    "SELECT exp_group, \n",
    "    user_id,\n",
    "    sum(action = 'like') as likes,\n",
    "    sum(action = 'view') as views,\n",
    "    likes/views as ctr\n",
    "FROM {db}.feed_actions \n",
    "WHERE toDate(time) >= '2022-06-13' and toDate(time) <= '2022-06-19'\n",
    "    and exp_group in (1,2)\n",
    "GROUP BY exp_group, user_id\n",
    "\"\"\""
   ]
  },
  {
   "cell_type": "code",
   "execution_count": 21,
   "id": "23b959c7-7d28-43b4-bc19-ab067e0b6cc9",
   "metadata": {},
   "outputs": [],
   "source": [
    "df = ph.read_clickhouse(q, connection=connection)"
   ]
  },
  {
   "cell_type": "code",
   "execution_count": 22,
   "id": "67ee8c00-250a-45a9-91d1-2df3bc4657bc",
   "metadata": {},
   "outputs": [
    {
     "data": {
      "text/plain": [
       "exp_group\n",
       "1    10079\n",
       "2     9952\n",
       "Name: user_id, dtype: int64"
      ]
     },
     "execution_count": 22,
     "metadata": {},
     "output_type": "execute_result"
    }
   ],
   "source": [
    "df.groupby('exp_group')['user_id'].count()"
   ]
  },
  {
   "cell_type": "markdown",
   "id": "93ba6d05-e9e7-4d38-8129-5077060eb91a",
   "metadata": {},
   "source": [
    "Comparing the CTR distributions graphs visually"
   ]
  },
  {
   "cell_type": "code",
   "execution_count": 23,
   "id": "03d9b9b8-b122-4b2c-b181-54dec6925f09",
   "metadata": {},
   "outputs": [
    {
     "data": {
      "image/png": "[encoded data removed]",
      "text/plain": [
       "<Figure size 864x576 with 1 Axes>"
      ]
     },
     "metadata": {},
     "output_type": "display_data"
    }
   ],
   "source": [
    "sns.set(rc={'figure.figsize':(12,8)})\n",
    "groups = sns.histplot(data = df, \n",
    "              x='ctr', \n",
    "              hue='exp_group', \n",
    "              palette = ['g', 'r'],\n",
    "              alpha=0.5,\n",
    "              kde=False)\n",
    "plt.title('CTR distribution in test(2) and control(1) groups')\n",
    "plt.xlabel('CTR')\n",
    "plt.show()"
   ]
  },
  {
   "cell_type": "markdown",
   "id": "b48534a4-0374-4794-a85d-22c57a96211c",
   "metadata": {},
   "source": [
    "We can see from the graphs that CTR is lower in group 2 comparing to group 1. Let's compare the groups using statistical tests."
   ]
  },
  {
   "cell_type": "markdown",
   "id": "0fc431a1-ed47-4bee-bc5c-9f4493935b40",
   "metadata": {},
   "source": [
    "t-тест Стьюдента"
   ]
  },
  {
   "cell_type": "code",
   "execution_count": 24,
   "id": "6075d573-8c94-46f2-8cba-6ef74e1d69cb",
   "metadata": {},
   "outputs": [
    {
     "data": {
      "text/plain": [
       "Ttest_indResult(statistic=0.7094392041270485, pvalue=0.4780623130874935)"
      ]
     },
     "execution_count": 24,
     "metadata": {},
     "output_type": "execute_result"
    }
   ],
   "source": [
    "stats.ttest_ind(df[df.exp_group == 1].ctr,\n",
    "                df[df.exp_group == 2].ctr,\n",
    "                equal_var=False)"
   ]
  },
  {
   "cell_type": "markdown",
   "id": "313c418b-7ca8-4796-84ce-13a989b23051",
   "metadata": {},
   "source": [
    "P-value that we got by running the Students' t-test is over 0.05, thus, the difference between the groups means is not statistically significant. Student's t-test is telling us that the groups are similar, but the result is false positive actually, as the condition for applying Student's t-test is that distributions should be normal, but we can see that group 2 distribution is different from normal one. Let's run one more test."
   ]
  },
  {
   "cell_type": "markdown",
   "id": "da0afa6d-0852-4deb-81dc-b3f38c35a7bc",
   "metadata": {},
   "source": [
    "Mann-Whitney test"
   ]
  },
  {
   "cell_type": "code",
   "execution_count": 25,
   "id": "b447ba42-120f-4d95-b7be-3a548159fdfe",
   "metadata": {},
   "outputs": [
    {
     "name": "stdout",
     "output_type": "stream",
     "text": [
      "MannwhitneyuResult(statistic=56601260.5, pvalue=6.0376484617779035e-56)\n",
      "The difference is not detected\n",
      "In 56.91 % cases A > B. Should be around 50%\n"
     ]
    }
   ],
   "source": [
    "print(stats.mannwhitneyu(df[df.exp_group == 1].ctr,\n",
    "                df[df.exp_group == 2].ctr))\n",
    "\n",
    "print('The difference is not detected')\n",
    "                   \n",
    "A_gt_B = 0\n",
    "for _ in range(10000):\n",
    "    A_gt_B+= df[df.exp_group == 1].ctr.sample().values[0] > df[df.exp_group == 2].ctr.sample().values[0]\n",
    "    \n",
    "print('В', A_gt_B/100, '% cases A > B. Should be around 50%')"
   ]
  },
  {
   "cell_type": "markdown",
   "id": "ef3bbf24-e215-41e6-98a6-2b866b72e68b",
   "metadata": {},
   "source": [
    "Let's run one more test."
   ]
  },
  {
   "cell_type": "markdown",
   "id": "d14eb0ec-8297-4d8c-a96d-66bfdec9b317",
   "metadata": {},
   "source": [
    "Nonparametric bootstrap"
   ]
  },
  {
   "cell_type": "code",
   "execution_count": 26,
   "id": "4234ab25-a22f-4415-b8e8-94e2f7c6d9c7",
   "metadata": {},
   "outputs": [],
   "source": [
    "def bootstrap(likes1, views1, likes2, views2, n_bootstrap=2000):\n",
    "\n",
    "    poisson_bootstraps1 = stats.poisson(1).rvs(\n",
    "        (n_bootstrap, len(likes1))).astype(np.int64)\n",
    "\n",
    "    poisson_bootstraps2 = stats.poisson(1).rvs(\n",
    "            (n_bootstrap, len(likes2))).astype(np.int64)\n",
    "    \n",
    "    globalCTR1 = (poisson_bootstraps1*likes1).sum(axis=1)/(poisson_bootstraps1*views1).sum(axis=1)\n",
    "    \n",
    "    globalCTR2 = (poisson_bootstraps2*likes2).sum(axis=1)/(poisson_bootstraps2*views2).sum(axis=1)\n",
    "\n",
    "    return globalCTR1, globalCTR2"
   ]
  },
  {
   "cell_type": "code",
   "execution_count": 27,
   "id": "1e5169ac-ff8b-4160-b977-cbe382eac10e",
   "metadata": {},
   "outputs": [],
   "source": [
    "df = ph.read_clickhouse(q, connection=connection)"
   ]
  },
  {
   "cell_type": "code",
   "execution_count": 28,
   "id": "65aeba1e-272d-419b-86fe-75ae8a8bb995",
   "metadata": {},
   "outputs": [],
   "source": [
    "likes1 = df[df.exp_group == 1].likes.to_numpy()\n",
    "views1 = df[df.exp_group == 1].views.to_numpy()\n",
    "likes2 = df[df.exp_group == 2].likes.to_numpy()\n",
    "views2 = df[df.exp_group == 2].views.to_numpy()"
   ]
  },
  {
   "cell_type": "code",
   "execution_count": 29,
   "id": "bafd9f62-4c56-40e3-919d-5152ae27a1b5",
   "metadata": {},
   "outputs": [],
   "source": [
    "ctr1, ctr2 = bootstrap(likes1, views1, likes2, views2)"
   ]
  },
  {
   "cell_type": "markdown",
   "id": "c0f7005e-4f51-4848-987d-d7747e85078d",
   "metadata": {},
   "source": [
    "Creating the graphs for groups CTR distribution"
   ]
  },
  {
   "cell_type": "code",
   "execution_count": 31,
   "id": "1ea9cb52-36d5-43c1-baac-6e314caa91bc",
   "metadata": {},
   "outputs": [
    {
     "data": {
      "text/plain": [
       "<AxesSubplot:ylabel='Count'>"
      ]
     },
     "execution_count": 31,
     "metadata": {},
     "output_type": "execute_result"
    },
    {
     "data": {
      "image/png": "[encoded data removed]",
      "text/plain": [
       "<Figure size 864x576 with 1 Axes>"
      ]
     },
     "metadata": {},
     "output_type": "display_data"
    }
   ],
   "source": [
    "sns.histplot(data=ctr1, color='green')\n",
    "sns.histplot(data=ctr2, color='red')"
   ]
  },
  {
   "cell_type": "markdown",
   "id": "fb7c000a-b663-4749-a768-acd5a25b4b69",
   "metadata": {},
   "source": [
    "Creating the graph for the difference in groups CTR"
   ]
  },
  {
   "cell_type": "code",
   "execution_count": 32,
   "id": "46895f2f-dd60-4f38-b823-9d079aa90234",
   "metadata": {},
   "outputs": [
    {
     "data": {
      "text/plain": [
       "<AxesSubplot:ylabel='Count'>"
      ]
     },
     "execution_count": 32,
     "metadata": {},
     "output_type": "execute_result"
    },
    {
     "data": {
      "image/png": "[encoded data removed]",
      "text/plain": [
       "<Figure size 864x576 with 1 Axes>"
      ]
     },
     "metadata": {},
     "output_type": "display_data"
    }
   ],
   "source": [
    "sns.histplot(ctr2 - ctr1)"
   ]
  },
  {
   "cell_type": "markdown",
   "id": "50a390c6-1fe5-4566-bb2d-b6925bdc0c8c",
   "metadata": {},
   "source": [
    "The groups CTR difference value is negative, as test group CTR is lower than the control group CTR."
   ]
  },
  {
   "cell_type": "markdown",
   "id": "b4d3fadb-7c4c-49d4-a6de-d6c48f4cda31",
   "metadata": {},
   "source": [
    "Extracting the data for the users with CTR over 0.5 for the control and test groups."
   ]
  },
  {
   "cell_type": "code",
   "execution_count": 33,
   "id": "23813d4d-a18f-4d7e-925b-42fd7656a087",
   "metadata": {},
   "outputs": [],
   "source": [
    "q1 = \"\"\"\n",
    "(SELECT * \n",
    "FROM\n",
    "(SELECT exp_group, \n",
    "    user_id,\n",
    "    sum(action = 'like') as likes,\n",
    "    sum(action = 'view') as views,\n",
    "    likes/views as ctr\n",
    "FROM {db}.feed_actions \n",
    "WHERE toDate(time) >= '2022-06-13' and toDate(time) <= '2022-06-19'\n",
    "    and exp_group in (1,2)\n",
    "GROUP BY exp_group, user_id)\n",
    "WHERE ctr>0.5\n",
    "GROUP BY exp_group, user_id,likes, views, ctr)\n",
    "\"\"\""
   ]
  },
  {
   "cell_type": "code",
   "execution_count": 34,
   "id": "283c784e-9b8f-4b13-a727-fb3f57fe5b09",
   "metadata": {},
   "outputs": [],
   "source": [
    "df = ph.read_clickhouse(q, connection=connection)"
   ]
  },
  {
   "cell_type": "code",
   "execution_count": 35,
   "id": "f408463f-e70a-4b40-81bb-a0b6c100acf7",
   "metadata": {},
   "outputs": [
    {
     "data": {
      "text/plain": [
       "exp_group\n",
       "1    10079\n",
       "2     9952\n",
       "Name: user_id, dtype: int64"
      ]
     },
     "execution_count": 35,
     "metadata": {},
     "output_type": "execute_result"
    }
   ],
   "source": [
    "df.groupby('exp_group')['user_id'].count()"
   ]
  },
  {
   "cell_type": "markdown",
   "id": "be1de4e3-2611-451f-9976-e4f4cd2593a7",
   "metadata": {},
   "source": [
    "Conclusion.\n",
    "The experiement proved that the new recommendtion system is worse than the one that is being currently used, as CTR values in test group are generally lower than CTR in the control group. It is not recommended to deploy the new recommendation system algorithm to production as it can lead to users leaving our service.\n",
    "Алгоритм рекомендаций, который мы проверяли, заключался в том, что пользователям показывали посты, которые лайкали похожие на него пользователи. Возможно ошибка алгоритма заключалась в том, что \"похожесть\" пользователей была посчитана некорректно, имеет смысл изменить параметры \"похожести\" и провести еще один эксперимент. \n",
    "Была замечена интересная деталь - в тестовой группе CTR был в среднем меньше, чем в контрольной группе, при этом количество пользователей, у которых CTR был выше 0,5, в тестовой группе оказался выше. У 61 пользователя из контрольной группы CTR был выше 0,5, в тествой группе CTR выше 0,5 был выше у 309 пользователей. Это говорит о том, что для этой группы пользователей новый алгоритм рекомендаций работает лучше, нужно посмотреть на эту группу и понять, какие общие характеристики позволили новому алгоритму рекомендаций правильно определить \"похожесть\"."
   ]
  }
 ],
 "metadata": {
  "kernelspec": {
   "display_name": "Python 3 (ipykernel)",
   "language": "python",
   "name": "python3"
  },
  "language_info": {
   "codemirror_mode": {
    "name": "ipython",
    "version": 3
   },
   "file_extension": ".py",
   "mimetype": "text/x-python",
   "name": "python",
   "nbconvert_exporter": "python",
   "pygments_lexer": "ipython3",
   "version": "3.8.10"
  }
 },
 "nbformat": 4,
 "nbformat_minor": 5
}
