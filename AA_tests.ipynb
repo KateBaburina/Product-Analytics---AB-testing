{
 "cells": [
  {
   "cell_type": "markdown",
   "id": "601fe029-4241-4932-811e-77e103278aac",
   "metadata": {},
   "source": [
    "A/A test to check if the groups are similar. Before starting the A/B experiment evaluation, we need to make sure that the splitting into groups went well and the groups are equal."
   ]
  },
  {
   "cell_type": "code",
   "execution_count": 24,
   "id": "16d4c0e1-b03e-467e-b6ee-4f6afe4b0207",
   "metadata": {},
   "outputs": [],
   "source": [
    "# Importing the libraries\n",
    "import pandahouse as ph\n",
    "import pandas as pd\n",
    "import numpy as np\n",
    "import seaborn as sns\n",
    "import matplotlib.pyplot as plt\n",
    "from scipy import stats\n",
    "from scipy.stats import mannwhitneyu\n",
    "%matplotlib inline"
   ]
  },
  {
   "cell_type": "code",
   "execution_count": 25,
   "id": "fb5708b7-cafd-44f2-97c0-a6ffe7717b39",
   "metadata": {},
   "outputs": [],
   "source": [
    "connection = {\n",
    "    'host': HOST,\n",
    "    'password' : 'dpo_python_2020',\n",
    "    'user' : 'student' ,\n",
    "    'database' : 'simulator_20220720'\n",
    "    }"
   ]
  },
  {
   "cell_type": "markdown",
   "id": "67f62278-b8a7-47bd-8ffc-3de014d54df6",
   "metadata": {},
   "source": [
    "Checking if the groups are correctly split"
   ]
  },
  {
   "cell_type": "markdown",
   "id": "6e031eed-f2ad-44df-9226-e167d8d31400",
   "metadata": {},
   "source": [
    " Extracting the data from DB"
   ]
  },
  {
   "cell_type": "markdown",
   "id": "b973347c-7f0b-4291-8c50-46f86a010cc1",
   "metadata": {},
   "source": [
    "Comparing the distributions visually"
   ]
  },
  {
   "cell_type": "code",
   "execution_count": 26,
   "id": "7170c38f-d404-4e8f-bf3b-a3edfc651155",
   "metadata": {},
   "outputs": [],
   "source": [
    "q = \"\"\"\n",
    "SELECT exp_group, \n",
    "    user_id,\n",
    "    sum(action = 'like') as likes,\n",
    "    sum(action = 'view') as views,\n",
    "    likes/views as ctr\n",
    "FROM {db}.feed_actions \n",
    "WHERE toDate(time) >= '2022-06-06' and toDate(time) <= '2022-06-12'\n",
    "    and exp_group in (2,3)\n",
    "GROUP BY exp_group, user_id\n",
    "\"\"\""
   ]
  },
  {
   "cell_type": "code",
   "execution_count": 27,
   "id": "23b959c7-7d28-43b4-bc19-ab067e0b6cc9",
   "metadata": {},
   "outputs": [],
   "source": [
    "df = ph.read_clickhouse(q, connection=connection)"
   ]
  },
  {
   "cell_type": "code",
   "execution_count": 28,
   "id": "67ee8c00-250a-45a9-91d1-2df3bc4657bc",
   "metadata": {},
   "outputs": [
    {
     "data": {
      "text/html": [
       "<div>\n",
       "<style scoped>\n",
       "    .dataframe tbody tr th:only-of-type {\n",
       "        vertical-align: middle;\n",
       "    }\n",
       "\n",
       "    .dataframe tbody tr th {\n",
       "        vertical-align: top;\n",
       "    }\n",
       "\n",
       "    .dataframe thead th {\n",
       "        text-align: right;\n",
       "    }\n",
       "</style>\n",
       "<table border=\"1\" class=\"dataframe\">\n",
       "  <thead>\n",
       "    <tr style=\"text-align: right;\">\n",
       "      <th></th>\n",
       "      <th>user_id</th>\n",
       "      <th>likes</th>\n",
       "      <th>views</th>\n",
       "      <th>ctr</th>\n",
       "    </tr>\n",
       "    <tr>\n",
       "      <th>exp_group</th>\n",
       "      <th></th>\n",
       "      <th></th>\n",
       "      <th></th>\n",
       "      <th></th>\n",
       "    </tr>\n",
       "  </thead>\n",
       "  <tbody>\n",
       "    <tr>\n",
       "      <th>2</th>\n",
       "      <td>8480</td>\n",
       "      <td>8480</td>\n",
       "      <td>8480</td>\n",
       "      <td>8480</td>\n",
       "    </tr>\n",
       "    <tr>\n",
       "      <th>3</th>\n",
       "      <td>8569</td>\n",
       "      <td>8569</td>\n",
       "      <td>8569</td>\n",
       "      <td>8569</td>\n",
       "    </tr>\n",
       "  </tbody>\n",
       "</table>\n",
       "</div>"
      ],
      "text/plain": [
       "           user_id  likes  views   ctr\n",
       "exp_group                             \n",
       "2             8480   8480   8480  8480\n",
       "3             8569   8569   8569  8569"
      ]
     },
     "execution_count": 28,
     "metadata": {},
     "output_type": "execute_result"
    }
   ],
   "source": [
    "df.groupby('exp_group').count()"
   ]
  },
  {
   "cell_type": "code",
   "execution_count": 29,
   "id": "b22c0bfe-a538-4346-8817-21d11353d1a7",
   "metadata": {},
   "outputs": [
    {
     "data": {
      "text/plain": [
       "exp_group\n",
       "2    8480\n",
       "3    8569\n",
       "Name: user_id, dtype: int64"
      ]
     },
     "execution_count": 29,
     "metadata": {},
     "output_type": "execute_result"
    }
   ],
   "source": [
    "df.groupby('exp_group')['user_id'].count()"
   ]
  },
  {
   "cell_type": "markdown",
   "id": "b24e5ac4-28ba-4628-9900-747c288ab2ab",
   "metadata": {},
   "source": [
    "Comparing the groups visually by constructing the distribution graph"
   ]
  },
  {
   "cell_type": "code",
   "execution_count": 30,
   "id": "03d9b9b8-b122-4b2c-b181-54dec6925f09",
   "metadata": {},
   "outputs": [
    {
     "data": {
      "image/png": "[encoded data removed]",
      "text/plain": [
       "<Figure size 864x576 with 1 Axes>"
      ]
     },
     "metadata": {},
     "output_type": "display_data"
    }
   ],
   "source": [
    "sns.set(rc={'figure.figsize':(12,8)})\n",
    "groups = sns.histplot(data = df, \n",
    "              x='ctr', \n",
    "              hue='exp_group', \n",
    "              palette = ['g', 'r'],\n",
    "              alpha=0.5,\n",
    "              kde=False)\n",
    "plt.title('CTR distribution')\n",
    "plt.xlabel('CTR')\n",
    "plt.show()"
   ]
  },
  {
   "cell_type": "markdown",
   "id": "28db3bc5-2d06-4ec0-9e4b-d0cf7c06ab13",
   "metadata": {},
   "source": [
    "AA-test"
   ]
  },
  {
   "cell_type": "markdown",
   "id": "5f8c1342-7f65-4b4a-8949-36f998fd086a",
   "metadata": {},
   "source": [
    "Student's t-test"
   ]
  },
  {
   "cell_type": "code",
   "execution_count": 31,
   "id": "6075d573-8c94-46f2-8cba-6ef74e1d69cb",
   "metadata": {},
   "outputs": [
    {
     "data": {
      "text/plain": [
       "Ttest_indResult(statistic=-0.7393597924958364, pvalue=0.45969873156476293)"
      ]
     },
     "execution_count": 31,
     "metadata": {},
     "output_type": "execute_result"
    }
   ],
   "source": [
    "stats.ttest_ind(df[df.exp_group == 2].ctr,\n",
    "                df[df.exp_group == 3].ctr,\n",
    "                equal_var=False)"
   ]
  },
  {
   "cell_type": "markdown",
   "id": "70893627-d244-4e50-9fb5-e6358f018d68",
   "metadata": {},
   "source": [
    "Student's t-test showed that p-value is higher than 0.05, thus, the difference between the means is not statistically significant. Let's use one more method."
   ]
  },
  {
   "cell_type": "markdown",
   "id": "21b13b01-60d9-4122-8824-4cc2d7dc840d",
   "metadata": {},
   "source": [
    "Nonparametric bootstrap"
   ]
  },
  {
   "cell_type": "markdown",
   "id": "553c71d4-3f54-4fe6-923a-a9f4d8c5d51d",
   "metadata": {},
   "source": [
    "Calculating 10000 pseudosampling without return for 500 users from experiemental group 2 and 3"
   ]
  },
  {
   "cell_type": "code",
   "execution_count": 32,
   "id": "1e5169ac-ff8b-4160-b977-cbe382eac10e",
   "metadata": {},
   "outputs": [],
   "source": [
    "p_values = []"
   ]
  },
  {
   "cell_type": "code",
   "execution_count": 33,
   "id": "65aeba1e-272d-419b-86fe-75ae8a8bb995",
   "metadata": {},
   "outputs": [],
   "source": [
    "for i in range(10000):\n",
    "    subset2 = df[df.exp_group == 2].ctr.sample(500, replace=False).tolist()\n",
    "    subset3 = df[df.exp_group == 3].ctr.sample(500, replace=False).tolist()\n",
    "\n",
    "    p_values.append((stats.ttest_ind(subset2,\n",
    "    subset3,\n",
    "    equal_var=False)).pvalue)"
   ]
  },
  {
   "cell_type": "code",
   "execution_count": 34,
   "id": "bafd9f62-4c56-40e3-919d-5152ae27a1b5",
   "metadata": {},
   "outputs": [
    {
     "data": {
      "text/plain": [
       "Ttest_indResult(statistic=-1.1481834722834479, pvalue=0.25117102020230375)"
      ]
     },
     "execution_count": 34,
     "metadata": {},
     "output_type": "execute_result"
    }
   ],
   "source": [
    "stats.ttest_ind(subset2,\n",
    "                subset3,\n",
    "                equal_var=False)"
   ]
  },
  {
   "cell_type": "markdown",
   "id": "546ae8d2-11b8-499b-875e-22c1aef74d68",
   "metadata": {},
   "source": [
    "Creating p-value distribution graph:"
   ]
  },
  {
   "cell_type": "code",
   "execution_count": 35,
   "id": "46895f2f-dd60-4f38-b823-9d079aa90234",
   "metadata": {},
   "outputs": [
    {
     "data": {
      "image/png": "[encoded data removed]",
      "text/plain": [
       "<Figure size 864x576 with 1 Axes>"
      ]
     },
     "metadata": {},
     "output_type": "display_data"
    }
   ],
   "source": [
    "groups = sns.histplot(data = p_values)"
   ]
  },
  {
   "cell_type": "markdown",
   "id": "ecbfbb73-96f7-48d7-94f7-a360ac441ef2",
   "metadata": {},
   "source": [
    "Calculating the percent of p-values, that are less or equal to 0.05"
   ]
  },
  {
   "cell_type": "code",
   "execution_count": 36,
   "id": "9a94dfa2-fb05-4326-adb8-6624228b549d",
   "metadata": {},
   "outputs": [],
   "source": [
    "a=100"
   ]
  },
  {
   "cell_type": "code",
   "execution_count": 37,
   "id": "1bbf92a5-b9f5-4951-b3ce-cb82981cceb8",
   "metadata": {},
   "outputs": [],
   "source": [
    "b=len([item for item in p_values if item <= 0.05]) / len(p_values)"
   ]
  },
  {
   "cell_type": "code",
   "execution_count": 38,
   "id": "e7da8249-c076-481b-b085-7a34b17ef19b",
   "metadata": {},
   "outputs": [
    {
     "name": "stdout",
     "output_type": "stream",
     "text": [
      "4.91\n"
     ]
    }
   ],
   "source": [
    "print(b * a)"
   ]
  },
  {
   "cell_type": "markdown",
   "id": "a7c793ae-9c14-4cec-961f-c4312b5b100d",
   "metadata": {},
   "source": [
    "Conclusion.\n",
    "Splitting system works correctly, key metric is similar for experiemental groups 2 and 3.\n",
    "We have used two methods to make sure the groups are equal.\n",
    "1-st method: Visual check usign the distribution graph created for experiemental groups 2 and 3. We have also used Student's t-test, pvalue=0.45969873156476293. The groups are similar.\n",
    "\n",
    "2nd method: We have performed simulation of 10000 AA-tests, in every iteration of this simulation we generated preudosampling without return for 500 users for users from experiemental groups 2 and 3, we compared these two preudosampling using Student's t-test.\n",
    "We can accept null hypotesis if p_value < 0.05, thus, we can say that in approximately 5% of cases we can see statistically significant difference between experiemental groups 2 and 3. In our case p_value <=  0.05 in 4.91% cases, that means that splitting system is working correctly, as statistically significant difference can be seen only in cases of false positive results."
   ]
  }
 ],
 "metadata": {
  "kernelspec": {
   "display_name": "Python 3 (ipykernel)",
   "language": "python",
   "name": "python3"
  },
  "language_info": {
   "codemirror_mode": {
    "name": "ipython",
    "version": 3
   },
   "file_extension": ".py",
   "mimetype": "text/x-python",
   "name": "python",
   "nbconvert_exporter": "python",
   "pygments_lexer": "ipython3",
   "version": "3.8.10"
  }
 },
 "nbformat": 4,
 "nbformat_minor": 5
}
