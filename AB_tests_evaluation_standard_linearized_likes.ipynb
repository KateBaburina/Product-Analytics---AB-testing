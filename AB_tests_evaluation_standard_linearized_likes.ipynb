{
 "cells": [
  {
   "cell_type": "markdown",
   "id": "fe752a95-815f-4f6c-bfbe-8ec07c1dc5f4",
   "metadata": {},
   "source": [
    "Оценка результатов A/B эксперимента с использованием стандартных тестов и методики линеаризованных лайков"
   ]
  },
  {
   "cell_type": "code",
   "execution_count": 46,
   "id": "d520e073-056d-401e-b684-538169ecbffc",
   "metadata": {},
   "outputs": [],
   "source": [
    "# Импортируем библиотеки\n",
    "import pandahouse as ph\n",
    "import pandas as pd\n",
    "import numpy as np\n",
    "import seaborn as sns\n",
    "import matplotlib.pyplot as plt\n",
    "from scipy import stats\n",
    "from scipy.stats import mannwhitneyu\n",
    "%matplotlib inline"
   ]
  },
  {
   "cell_type": "code",
   "execution_count": 47,
   "id": "37c64e7c-2976-498b-abef-0a343302a169",
   "metadata": {},
   "outputs": [],
   "source": [
    "connection = {\n",
    "    'host': HOST ,\n",
    "    'password' : 'dpo_python_2020',\n",
    "    'user' : 'student' ,\n",
    "    'database' : 'simulator_20220720'\n",
    "    }"
   ]
  },
  {
   "cell_type": "markdown",
   "id": "68dc6a4f-18d8-4cf8-a81c-7f1b095d634e",
   "metadata": {},
   "source": [
    "Выгружаем данные эксперимента для контрольной и тестовой группы из БД: 0 - контроль, 3 - тестовая группа"
   ]
  },
  {
   "cell_type": "code",
   "execution_count": 48,
   "id": "04c16ede-f0d7-4225-9f02-e57230752bae",
   "metadata": {},
   "outputs": [],
   "source": [
    "q = \"\"\"\n",
    "SELECT exp_group, \n",
    "    user_id,\n",
    "    sum(action = 'like') as likes,\n",
    "    sum(action = 'view') as views,\n",
    "    likes/views as ctr\n",
    "FROM {db}.feed_actions \n",
    "WHERE toDate(time) >= '2022-06-13' and toDate(time) <= '2022-06-19'\n",
    "    and exp_group in (0,3)\n",
    "GROUP BY exp_group, user_id\n",
    "\"\"\""
   ]
  },
  {
   "cell_type": "code",
   "execution_count": 49,
   "id": "a7a900c0-595d-4452-a847-fc3d66a01b75",
   "metadata": {},
   "outputs": [],
   "source": [
    "df = ph.read_clickhouse(q, connection=connection)"
   ]
  },
  {
   "cell_type": "code",
   "execution_count": 50,
   "id": "5699826e-d72b-43b7-9b04-6a211ade4784",
   "metadata": {},
   "outputs": [
    {
     "data": {
      "text/plain": [
       "exp_group\n",
       "0     9999\n",
       "3    10049\n",
       "Name: user_id, dtype: int64"
      ]
     },
     "execution_count": 50,
     "metadata": {},
     "output_type": "execute_result"
    }
   ],
   "source": [
    "df.groupby('exp_group')['user_id'].count()"
   ]
  },
  {
   "cell_type": "markdown",
   "id": "11c4501a-60ca-4b10-a8b7-59cdb59c22f1",
   "metadata": {},
   "source": [
    "Сравним графики распределений CTR визуально"
   ]
  },
  {
   "cell_type": "code",
   "execution_count": 53,
   "id": "92a0127c-3066-4e57-9f74-d75cb874efeb",
   "metadata": {},
   "outputs": [
    {
     "data": {
      "image/png": "[encoded data removed]",
      "text/plain": [
       "<Figure size 864x576 with 1 Axes>"
      ]
     },
     "metadata": {},
     "output_type": "display_data"
    }
   ],
   "source": [
    "sns.set(rc={'figure.figsize':(12,8)})\n",
    "groups = sns.histplot(data = df, \n",
    "              x='ctr', \n",
    "              hue='exp_group', \n",
    "              palette = ['g', 'r'],\n",
    "              alpha=0.5,\n",
    "              kde=False)\n",
    "plt.title('CTR distribution in test(3) and control(0) groups')\n",
    "plt.xlabel('CTR')\n",
    "plt.show()"
   ]
  },
  {
   "cell_type": "markdown",
   "id": "775912b1-4773-4885-833f-b0802ac59756",
   "metadata": {},
   "source": [
    "Распределения нормальные, сделаем t-тест Стьюдента"
   ]
  },
  {
   "cell_type": "code",
   "execution_count": 54,
   "id": "cf023b12-8179-4a33-9892-7035874e9b60",
   "metadata": {},
   "outputs": [
    {
     "data": {
      "text/plain": [
       "Ttest_indResult(statistic=-13.895802293872993, pvalue=1.071239841805842e-43)"
      ]
     },
     "execution_count": 54,
     "metadata": {},
     "output_type": "execute_result"
    }
   ],
   "source": [
    "stats.ttest_ind(df[df.exp_group == 0].ctr,df[df.exp_group == 3].ctr)"
   ]
  },
  {
   "cell_type": "markdown",
   "id": "bd4e31ea-7ded-4e59-b4a0-a6c277ce8d84",
   "metadata": {},
   "source": [
    "В результате t-теста Стьюдента p-value получился меньше 0.05, соответственно, мы не можем принять нулевую гипотезу, различия между средними значениями являются статистически значимыми."
   ]
  },
  {
   "cell_type": "markdown",
   "id": "112b2b79-9dec-4742-bf5a-a4770dace091",
   "metadata": {},
   "source": [
    "Проанализируем тест между группами 0 и 3 по метрике линеаризованных лайков."
   ]
  },
  {
   "cell_type": "code",
   "execution_count": 55,
   "id": "913a6109-1cb1-4c9a-aa8b-b57eea35da28",
   "metadata": {},
   "outputs": [],
   "source": [
    "CTRcontrol_0 = (df[df.exp_group == 0]['likes'].sum())/(df[df.exp_group == 0]['views'].sum())\n",
    "CTRcontrol_3 = (df[df.exp_group == 3]['likes'].sum())/(df[df.exp_group == 3]['views'].sum())"
   ]
  },
  {
   "cell_type": "code",
   "execution_count": 56,
   "id": "0c04bdc0-70ea-427a-aca9-0414125cd4b4",
   "metadata": {},
   "outputs": [],
   "source": [
    "linearized_likes_0 = df[df.exp_group == 0]['likes'] - (CTRcontrol_0*(df[df.exp_group == 0]['views']))\n",
    "linearized_likes_3 = df[df.exp_group == 3]['likes'] - (CTRcontrol_0*(df[df.exp_group == 3]['views']))"
   ]
  },
  {
   "cell_type": "markdown",
   "id": "09f0af8b-67cb-498b-b642-aaf948b86956",
   "metadata": {},
   "source": [
    "Сравним графики распределений CTR визуально"
   ]
  },
  {
   "cell_type": "code",
   "execution_count": 57,
   "id": "bc2806ac-fc3e-41bd-a960-8808d18ad7eb",
   "metadata": {},
   "outputs": [
    {
     "data": {
      "image/png": "[encoded data removed]",
      "text/plain": [
       "<Figure size 864x576 with 1 Axes>"
      ]
     },
     "metadata": {},
     "output_type": "display_data"
    }
   ],
   "source": [
    "sns.set(rc={'figure.figsize':(12,8)})\n",
    "sns.histplot(linearized_likes_0, color='g', label='0')\n",
    "sns.histplot(linearized_likes_3, color='r', label='3')\n",
    "plt.title('Linearized CTR distribution in test(3) and control(0) groups')\n",
    "plt.xlabel('CTR')\n",
    "plt.legend()\n",
    "plt.show()"
   ]
  },
  {
   "cell_type": "code",
   "execution_count": 58,
   "id": "4d58f725-4d7c-4bc0-9fa8-b3d435f50548",
   "metadata": {},
   "outputs": [
    {
     "data": {
      "text/plain": [
       "Ttest_indResult(statistic=-15.214995460903827, pvalue=5.4914249479690016e-52)"
      ]
     },
     "execution_count": 58,
     "metadata": {},
     "output_type": "execute_result"
    }
   ],
   "source": [
    "stats.ttest_ind(linearized_likes_0,linearized_likes_3,equal_var=False)"
   ]
  },
  {
   "cell_type": "markdown",
   "id": "6f135edd-0dd8-4f64-b48b-eb1f960ef1ba",
   "metadata": {},
   "source": [
    "Значение p-value оказалось еще меньше, чем при обычном t-тесте Стьюдента. Это подтверждает наличие статистически значимого различия между средними тестовой и контрольной группы."
   ]
  },
  {
   "cell_type": "markdown",
   "id": "78edc1ba-e19f-4757-b36f-e663c7addb1f",
   "metadata": {},
   "source": [
    "Проведем сравнение тестов между группами 1 и 2"
   ]
  },
  {
   "cell_type": "code",
   "execution_count": 59,
   "id": "6ef1d9b7-46bc-4f24-92bf-7573ed1ec6be",
   "metadata": {},
   "outputs": [],
   "source": [
    "q2 = \"\"\"\n",
    "SELECT exp_group, \n",
    "    user_id,\n",
    "    sum(action = 'like') as likes,\n",
    "    sum(action = 'view') as views,\n",
    "    likes/views as ctr\n",
    "FROM {db}.feed_actions \n",
    "WHERE toDate(time) >= '2022-06-13' and toDate(time) <= '2022-06-19'\n",
    "    and exp_group in (1,2)\n",
    "GROUP BY exp_group, user_id\n",
    "\"\"\""
   ]
  },
  {
   "cell_type": "code",
   "execution_count": 60,
   "id": "5470ecee-4dc7-4ae0-94c6-eac207668863",
   "metadata": {},
   "outputs": [],
   "source": [
    "df2 = ph.read_clickhouse(q2, connection=connection)"
   ]
  },
  {
   "cell_type": "code",
   "execution_count": 61,
   "id": "e2d60b83-ab1e-4dc0-9352-69a4f533c19c",
   "metadata": {},
   "outputs": [
    {
     "data": {
      "text/html": [
       "<div>\n",
       "<style scoped>\n",
       "    .dataframe tbody tr th:only-of-type {\n",
       "        vertical-align: middle;\n",
       "    }\n",
       "\n",
       "    .dataframe tbody tr th {\n",
       "        vertical-align: top;\n",
       "    }\n",
       "\n",
       "    .dataframe thead th {\n",
       "        text-align: right;\n",
       "    }\n",
       "</style>\n",
       "<table border=\"1\" class=\"dataframe\">\n",
       "  <thead>\n",
       "    <tr style=\"text-align: right;\">\n",
       "      <th></th>\n",
       "      <th>exp_group</th>\n",
       "      <th>user_id</th>\n",
       "      <th>likes</th>\n",
       "      <th>views</th>\n",
       "      <th>ctr</th>\n",
       "    </tr>\n",
       "  </thead>\n",
       "  <tbody>\n",
       "    <tr>\n",
       "      <th>0</th>\n",
       "      <td>1</td>\n",
       "      <td>109963</td>\n",
       "      <td>3</td>\n",
       "      <td>15</td>\n",
       "      <td>0.200000</td>\n",
       "    </tr>\n",
       "    <tr>\n",
       "      <th>1</th>\n",
       "      <td>1</td>\n",
       "      <td>26117</td>\n",
       "      <td>32</td>\n",
       "      <td>141</td>\n",
       "      <td>0.226950</td>\n",
       "    </tr>\n",
       "    <tr>\n",
       "      <th>2</th>\n",
       "      <td>1</td>\n",
       "      <td>138232</td>\n",
       "      <td>18</td>\n",
       "      <td>73</td>\n",
       "      <td>0.246575</td>\n",
       "    </tr>\n",
       "    <tr>\n",
       "      <th>3</th>\n",
       "      <td>1</td>\n",
       "      <td>26295</td>\n",
       "      <td>33</td>\n",
       "      <td>122</td>\n",
       "      <td>0.270492</td>\n",
       "    </tr>\n",
       "    <tr>\n",
       "      <th>4</th>\n",
       "      <td>1</td>\n",
       "      <td>18392</td>\n",
       "      <td>7</td>\n",
       "      <td>32</td>\n",
       "      <td>0.218750</td>\n",
       "    </tr>\n",
       "    <tr>\n",
       "      <th>...</th>\n",
       "      <td>...</td>\n",
       "      <td>...</td>\n",
       "      <td>...</td>\n",
       "      <td>...</td>\n",
       "      <td>...</td>\n",
       "    </tr>\n",
       "    <tr>\n",
       "      <th>20026</th>\n",
       "      <td>1</td>\n",
       "      <td>132567</td>\n",
       "      <td>45</td>\n",
       "      <td>296</td>\n",
       "      <td>0.152027</td>\n",
       "    </tr>\n",
       "    <tr>\n",
       "      <th>20027</th>\n",
       "      <td>1</td>\n",
       "      <td>30872</td>\n",
       "      <td>11</td>\n",
       "      <td>59</td>\n",
       "      <td>0.186441</td>\n",
       "    </tr>\n",
       "    <tr>\n",
       "      <th>20028</th>\n",
       "      <td>2</td>\n",
       "      <td>25383</td>\n",
       "      <td>42</td>\n",
       "      <td>127</td>\n",
       "      <td>0.330709</td>\n",
       "    </tr>\n",
       "    <tr>\n",
       "      <th>20029</th>\n",
       "      <td>2</td>\n",
       "      <td>139020</td>\n",
       "      <td>24</td>\n",
       "      <td>114</td>\n",
       "      <td>0.210526</td>\n",
       "    </tr>\n",
       "    <tr>\n",
       "      <th>20030</th>\n",
       "      <td>2</td>\n",
       "      <td>17310</td>\n",
       "      <td>9</td>\n",
       "      <td>82</td>\n",
       "      <td>0.109756</td>\n",
       "    </tr>\n",
       "  </tbody>\n",
       "</table>\n",
       "<p>20031 rows × 5 columns</p>\n",
       "</div>"
      ],
      "text/plain": [
       "       exp_group  user_id  likes  views       ctr\n",
       "0              1   109963      3     15  0.200000\n",
       "1              1    26117     32    141  0.226950\n",
       "2              1   138232     18     73  0.246575\n",
       "3              1    26295     33    122  0.270492\n",
       "4              1    18392      7     32  0.218750\n",
       "...          ...      ...    ...    ...       ...\n",
       "20026          1   132567     45    296  0.152027\n",
       "20027          1    30872     11     59  0.186441\n",
       "20028          2    25383     42    127  0.330709\n",
       "20029          2   139020     24    114  0.210526\n",
       "20030          2    17310      9     82  0.109756\n",
       "\n",
       "[20031 rows x 5 columns]"
      ]
     },
     "execution_count": 61,
     "metadata": {},
     "output_type": "execute_result"
    }
   ],
   "source": [
    "df2"
   ]
  },
  {
   "cell_type": "markdown",
   "id": "9f9ac461-de9c-4110-89b0-d69b769c6491",
   "metadata": {},
   "source": [
    "Сравним графики распределений CTR визуально"
   ]
  },
  {
   "cell_type": "code",
   "execution_count": 62,
   "id": "8c21294f-a363-429b-9630-d3336515d5b4",
   "metadata": {},
   "outputs": [
    {
     "data": {
      "image/png": "[encoded data removed]",
      "text/plain": [
       "<Figure size 864x576 with 1 Axes>"
      ]
     },
     "metadata": {},
     "output_type": "display_data"
    }
   ],
   "source": [
    "sns.set(rc={'figure.figsize':(12,8)})\n",
    "groups = sns.histplot(data = df2, \n",
    "              x='ctr', \n",
    "              hue='exp_group', \n",
    "              palette = ['r', 'g'],\n",
    "              alpha=0.5,\n",
    "              kde=False)\n",
    "plt.title('CTR distribution in test(1) and control(2) groups')\n",
    "plt.xlabel('CTR')\n",
    "plt.show()"
   ]
  },
  {
   "cell_type": "markdown",
   "id": "ad68cd67-ef21-4a10-ba64-075cb0097d1b",
   "metadata": {},
   "source": [
    "Распределение CTR в первой группе нормальное, распределение CTR во второй группе - двугорбое. Проведем t-тест Стьюдента."
   ]
  },
  {
   "cell_type": "code",
   "execution_count": 63,
   "id": "0dbaf83d-387b-4a45-9b03-dd8e8a0d6ee8",
   "metadata": {},
   "outputs": [
    {
     "data": {
      "text/plain": [
       "Ttest_indResult(statistic=0.7094392041270485, pvalue=0.4780623130874935)"
      ]
     },
     "execution_count": 63,
     "metadata": {},
     "output_type": "execute_result"
    }
   ],
   "source": [
    "stats.ttest_ind(df2[df2.exp_group == 1].ctr,\n",
    "                df2[df2.exp_group == 2].ctr,\n",
    "                equal_var=False)"
   ]
  },
  {
   "cell_type": "markdown",
   "id": "33f86111-33de-4cb2-9b3c-b0a9b6868747",
   "metadata": {},
   "source": [
    "При t-тесте Стьюдента p-value больше 0.05, соответственно, различия между средними значениями не являются статистически значимыми. Однако видно, что отличия в распределениях есть, ложноположительный результат t-теста Стьюдента вызван тем, что t-тест Стьюдента можно применять только к нормальным распределениям, в нашем случае только одно из распределений является нормальным."
   ]
  },
  {
   "cell_type": "markdown",
   "id": "49f3554f-8ace-45f0-977f-7a875f5daf34",
   "metadata": {},
   "source": [
    "Проанализируем группы 1 и 2 по метрике линеаризованных лайков."
   ]
  },
  {
   "cell_type": "code",
   "execution_count": 64,
   "id": "e359bef1-462b-4362-aa3b-2640b795a9d0",
   "metadata": {},
   "outputs": [],
   "source": [
    "CTRcontrol_1 = (df2[df2.exp_group == 1]['likes'].sum())/(df2[df2.exp_group == 1]['views'].sum())\n",
    "CTRcontrol_2 = (df2[df2.exp_group == 2]['likes'].sum())/(df2[df2.exp_group == 2]['views'].sum())"
   ]
  },
  {
   "cell_type": "code",
   "execution_count": 65,
   "id": "2fbcb148-e1e7-4633-971b-5d91802487f4",
   "metadata": {},
   "outputs": [],
   "source": [
    "linearized_likes_1 = df2[df2.exp_group == 1]['likes'] - (CTRcontrol_1*(df2[df2.exp_group == 1]['views']))\n",
    "linearized_likes_2 = df2[df2.exp_group == 2]['likes'] - (CTRcontrol_1*(df2[df2.exp_group == 2]['views']))"
   ]
  },
  {
   "cell_type": "code",
   "execution_count": 66,
   "id": "bd6c9199-96c2-4ee8-8751-411d00d49940",
   "metadata": {},
   "outputs": [
    {
     "data": {
      "image/png": "[encoded data removed]",
      "text/plain": [
       "<Figure size 864x576 with 1 Axes>"
      ]
     },
     "metadata": {},
     "output_type": "display_data"
    }
   ],
   "source": [
    "sns.set(rc={'figure.figsize':(12,8)})\n",
    "sns.histplot(linearized_likes_1, color='r', label='1')\n",
    "sns.histplot(linearized_likes_2, color='g', label='2')\n",
    "plt.title('Linearized CTR distribution in test(1) and control(2) groups')\n",
    "plt.xlabel('CTR')\n",
    "plt.legend()\n",
    "plt.show()"
   ]
  },
  {
   "cell_type": "code",
   "execution_count": 67,
   "id": "d0d09040-aa9c-4faf-8659-9914e84dfd32",
   "metadata": {},
   "outputs": [
    {
     "data": {
      "text/plain": [
       "Ttest_indResult(statistic=6.122579994775973, pvalue=9.439432187037712e-10)"
      ]
     },
     "execution_count": 67,
     "metadata": {},
     "output_type": "execute_result"
    }
   ],
   "source": [
    "stats.ttest_ind(linearized_likes_1,\n",
    "                linearized_likes_2,\n",
    "                equal_var=False)"
   ]
  },
  {
   "cell_type": "markdown",
   "id": "9ca58e3e-082d-43e9-8dac-8a6a91795bd0",
   "metadata": {},
   "source": [
    "В случае использования методики линеаризованных лайков значение p-value меньше 0.05, соответственно, различия в группах статистически значимы. "
   ]
  },
  {
   "cell_type": "markdown",
   "id": "109cbc3d-e663-46cf-8941-4da54429aff6",
   "metadata": {},
   "source": [
    "Вывод.\n",
    "Чувствительность метрики линеаризованных лайков действительно выше стандартного t-теста Стьюдента."
   ]
  }
 ],
 "metadata": {
  "kernelspec": {
   "display_name": "Python 3 (ipykernel)",
   "language": "python",
   "name": "python3"
  },
  "language_info": {
   "codemirror_mode": {
    "name": "ipython",
    "version": 3
   },
   "file_extension": ".py",
   "mimetype": "text/x-python",
   "name": "python",
   "nbconvert_exporter": "python",
   "pygments_lexer": "ipython3",
   "version": "3.8.10"
  }
 },
 "nbformat": 4,
 "nbformat_minor": 5
}
